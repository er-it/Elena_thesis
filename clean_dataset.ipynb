{
  "nbformat": 4,
  "nbformat_minor": 0,
  "metadata": {
    "colab": {
      "provenance": [],
      "collapsed_sections": [],
      "authorship_tag": "ABX9TyMy1CkTTf6Gm5dlAXYPLfSL",
      "include_colab_link": true
    },
    "kernelspec": {
      "name": "python3",
      "display_name": "Python 3"
    },
    "language_info": {
      "name": "python"
    }
  },
  "cells": [
    {
      "cell_type": "markdown",
      "metadata": {
        "id": "view-in-github",
        "colab_type": "text"
      },
      "source": [
        "<a href=\"https://colab.research.google.com/github/er-it/Elena_thesis/blob/main/clean_dataset.ipynb\" target=\"_parent\"><img src=\"https://colab.research.google.com/assets/colab-badge.svg\" alt=\"Open In Colab\"/></a>"
      ]
    },
    {
      "cell_type": "code",
      "execution_count": null,
      "metadata": {
        "colab": {
          "base_uri": "https://localhost:8080/"
        },
        "id": "hewSZocw8fd9",
        "outputId": "ddfb65f4-4c5c-4d3f-8281-46ee1e871ee6"
      },
      "outputs": [
        {
          "output_type": "stream",
          "name": "stdout",
          "text": [
            "Mounted at /content/drive\n"
          ]
        }
      ],
      "source": [
        "#LOADING DATASET FILE AND IMPORTING IT AS PANDAS DATAFRAME\n",
        "import pandas as pd\n",
        "\n",
        "from google.colab import drive\n",
        "drive.mount('/content/drive', force_remount=True)\n",
        "\n",
        "\n",
        "#dataset to clean\n",
        "xls = pd.ExcelFile('/content/drive/My Drive/Elena/polimi/IIYear/tesi/dataset/datasets.xlsx')\n",
        "df = pd.read_excel(xls, 'dataset_phenotype')"
      ]
    },
    {
      "cell_type": "code",
      "source": [
        "#FILTER DATASET \n",
        "#TO DO ????\n",
        "\n",
        "\n",
        "\n",
        "indexNames = df[ df['Viremia_present'] == 0 ].index\n",
        "# Delete these row indexes from dataFrame\n",
        "df.drop(indexNames , inplace=True)\n",
        "\n",
        "indexNames = df[ df['Variant_present'] == 0 ].index\n",
        "# Delete these row indexes from dataFrame\n",
        "df.drop(indexNames , inplace=True)\n",
        "\n",
        "indexNames = df[ df['Doses_of_SARS_CoV_2_Vaccine']> 0 ].index\n",
        "# Delete these row indexes from dataFrame\n",
        "df.drop(indexNames , inplace=True)\n",
        "\n",
        "df['Days_from_symptoms_onset_to_Hospital_admission']=df['Days_from_symptoms_onset_to_Hospital_admission'].fillna(df['Days_from_symptoms_onset_to_Hospital_admission'].mean())\n",
        "df['CCI']=df['CCI'].fillna(df['CCI'].mean())\n"
      ],
      "metadata": {
        "id": "8uMU-0hp_lZ3"
      },
      "execution_count": null,
      "outputs": []
    },
    {
      "cell_type": "code",
      "source": [
        "#TRANSFORM SOME COLUMNS\n",
        "\n",
        "bins= [0,44,59,74,120]\n",
        "labels = ['[<45]','[ 45-60]','[60-75]','[>75]']\n",
        "df['Age_at_admission'] = pd.cut(df['Age_at_admission'], bins=bins, labels=labels, right=False)\n",
        "  \n",
        "\n",
        "\n",
        "bins= [0,3,6,11,16,21,26,150]\n",
        "labels = ['[0-2]','[3-5]','[6-10]','[11-15]','[16-20]','[21-25]','[26+]']\n",
        "df['Days_from_symptoms_onset_to_Hospital_admission'] = pd.cut(df['Days_from_symptoms_onset_to_Hospital_admission'], bins=bins, labels=labels, right=False)\n",
        "\n",
        "\n",
        "df['Result_viremia']=df['Result_viremia_Isample'].replace({\"N\": 0, \"P\": 1})\n",
        "\n",
        "df['Sex']=df['Sex'].replace({\"M\": 0, \"F\": 1})"
      ],
      "metadata": {
        "id": "7dYkQEJeY9s6"
      },
      "execution_count": null,
      "outputs": []
    },
    {
      "cell_type": "code",
      "source": [
        "#CLEAN DATASET\n",
        "\n",
        "df=df[['Sex','Age_at_admission','CCI',\n",
        "             'Disease_severity_at_Hospital_admission','Days_from_symptoms_onset_to_Hospital_admission', 'Period', 'Doses_of_SARS_CoV_2_Vaccine','Variant_class','Result_viremia']]\n",
        "\n"
      ],
      "metadata": {
        "id": "vnkKVTMi9YnP"
      },
      "execution_count": null,
      "outputs": []
    },
    {
      "cell_type": "code",
      "source": [
        "#SAVE TO EXCEL FILE\n",
        "\n",
        "\n",
        "with open('/content/drive/My Drive/Elena/polimi/IIYear/tesi/analysis/tool/temp.xlsx', 'wb') as output:\n",
        "    writer = pd.ExcelWriter(output, engine='openpyxl')\n",
        "    df.to_excel(writer)\n",
        "    writer.save()"
      ],
      "metadata": {
        "id": "P_AO9zs3-n5M"
      },
      "execution_count": null,
      "outputs": []
    }
  ]
}