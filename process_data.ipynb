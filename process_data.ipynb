{
  "nbformat": 4,
  "nbformat_minor": 0,
  "metadata": {
    "colab": {
      "provenance": [],
      "collapsed_sections": [],
      "authorship_tag": "ABX9TyM08/8/vrRDVqd9UPNu10Gm",
      "include_colab_link": true
    },
    "kernelspec": {
      "name": "python3",
      "display_name": "Python 3"
    },
    "language_info": {
      "name": "python"
    }
  },
  "cells": [
    {
      "cell_type": "markdown",
      "metadata": {
        "id": "view-in-github",
        "colab_type": "text"
      },
      "source": [
        "<a href=\"https://colab.research.google.com/github/er-it/Elena_thesis/blob/main/process_data.ipynb\" target=\"_parent\"><img src=\"https://colab.research.google.com/assets/colab-badge.svg\" alt=\"Open In Colab\"/></a>"
      ]
    },
    {
      "cell_type": "markdown",
      "source": [
        "##USER INPUT"
      ],
      "metadata": {
        "id": "sbQV7FWuGC8H"
      }
    },
    {
      "cell_type": "code",
      "source": [
        "#REQUEST dataset and target TO THE USER -- dataset in upload\n",
        "\n",
        "\n",
        "\"\"\"\n",
        "import tkinter\n",
        "import tkinter.filedialog\n",
        "\n",
        "\n",
        "#import os\n",
        "#import matplotlib as mpl\n",
        "#if os.environ.get('DISPLAY','') == '':\n",
        "#   print('no display found. Using non-interactive Agg backend')\n",
        "#   mpl.use('Agg')\n",
        "\n",
        "\n",
        "print('Hello!\\nThis application is designed to help you to discover, starting from a dataset (a set of columns with data) and a target variable to predict, which are the most significant'+\n",
        "      ' variable determining the target ones.\\n Let\\'s start!!\\n ')\n",
        "\n",
        "\n",
        "root = tkinter.Tk()\n",
        "#root.mainloop()\n",
        "root.withdraw() # Remove background screen\n",
        "\n",
        "# Ask for name of inputfiles\n",
        "excelfile = tkinter.filedialog.askopenfilename(parent=root, title=\"Select first Excel file\", defaultextension = \".xlsx\")\n",
        "\n",
        "\n",
        "target_variable=input('Please specify the name of the target variable present in the dataset:\\n')\n",
        "\n",
        "\n",
        "\n",
        "\"\"\""
      ],
      "metadata": {
        "colab": {
          "base_uri": "https://localhost:8080/",
          "height": 455
        },
        "id": "Qlwfw3XaATU7",
        "outputId": "0b5d360e-b3c1-4071-a4e3-1afc1b5f8365"
      },
      "execution_count": null,
      "outputs": [
        {
          "output_type": "stream",
          "name": "stdout",
          "text": [
            "no display found. Using non-interactive Agg backend\n",
            "Hello!\n",
            "This application is designed to help you to discover, starting from a dataset (a set of columns with data) and a target variable to predict, which are the most significant variable determining the target ones.\n",
            " Let's start!!\n",
            " \n"
          ]
        },
        {
          "output_type": "error",
          "ename": "TclError",
          "evalue": "ignored",
          "traceback": [
            "\u001b[0;31m---------------------------------------------------------------------------\u001b[0m",
            "\u001b[0;31mTclError\u001b[0m                                  Traceback (most recent call last)",
            "\u001b[0;32m<ipython-input-8-89215bbb1ef9>\u001b[0m in \u001b[0;36m<module>\u001b[0;34m\u001b[0m\n\u001b[1;32m     17\u001b[0m \u001b[0;34m\u001b[0m\u001b[0m\n\u001b[1;32m     18\u001b[0m \u001b[0;34m\u001b[0m\u001b[0m\n\u001b[0;32m---> 19\u001b[0;31m \u001b[0mroot\u001b[0m \u001b[0;34m=\u001b[0m \u001b[0mtkinter\u001b[0m\u001b[0;34m.\u001b[0m\u001b[0mTk\u001b[0m\u001b[0;34m(\u001b[0m\u001b[0;34m)\u001b[0m\u001b[0;34m\u001b[0m\u001b[0;34m\u001b[0m\u001b[0m\n\u001b[0m\u001b[1;32m     20\u001b[0m \u001b[0mroot\u001b[0m\u001b[0;34m.\u001b[0m\u001b[0mmainloop\u001b[0m\u001b[0;34m(\u001b[0m\u001b[0;34m)\u001b[0m\u001b[0;34m\u001b[0m\u001b[0;34m\u001b[0m\u001b[0m\n\u001b[1;32m     21\u001b[0m \u001b[0mroot\u001b[0m\u001b[0;34m.\u001b[0m\u001b[0mwithdraw\u001b[0m\u001b[0;34m(\u001b[0m\u001b[0;34m)\u001b[0m \u001b[0;31m# Remove background screen\u001b[0m\u001b[0;34m\u001b[0m\u001b[0;34m\u001b[0m\u001b[0m\n",
            "\u001b[0;32m/usr/lib/python3.7/tkinter/__init__.py\u001b[0m in \u001b[0;36m__init__\u001b[0;34m(self, screenName, baseName, className, useTk, sync, use)\u001b[0m\n\u001b[1;32m   2021\u001b[0m                 \u001b[0mbaseName\u001b[0m \u001b[0;34m=\u001b[0m \u001b[0mbaseName\u001b[0m \u001b[0;34m+\u001b[0m \u001b[0mext\u001b[0m\u001b[0;34m\u001b[0m\u001b[0;34m\u001b[0m\u001b[0m\n\u001b[1;32m   2022\u001b[0m         \u001b[0minteractive\u001b[0m \u001b[0;34m=\u001b[0m \u001b[0;36m0\u001b[0m\u001b[0;34m\u001b[0m\u001b[0;34m\u001b[0m\u001b[0m\n\u001b[0;32m-> 2023\u001b[0;31m         \u001b[0mself\u001b[0m\u001b[0;34m.\u001b[0m\u001b[0mtk\u001b[0m \u001b[0;34m=\u001b[0m \u001b[0m_tkinter\u001b[0m\u001b[0;34m.\u001b[0m\u001b[0mcreate\u001b[0m\u001b[0;34m(\u001b[0m\u001b[0mscreenName\u001b[0m\u001b[0;34m,\u001b[0m \u001b[0mbaseName\u001b[0m\u001b[0;34m,\u001b[0m \u001b[0mclassName\u001b[0m\u001b[0;34m,\u001b[0m \u001b[0minteractive\u001b[0m\u001b[0;34m,\u001b[0m \u001b[0mwantobjects\u001b[0m\u001b[0;34m,\u001b[0m \u001b[0museTk\u001b[0m\u001b[0;34m,\u001b[0m \u001b[0msync\u001b[0m\u001b[0;34m,\u001b[0m \u001b[0muse\u001b[0m\u001b[0;34m)\u001b[0m\u001b[0;34m\u001b[0m\u001b[0;34m\u001b[0m\u001b[0m\n\u001b[0m\u001b[1;32m   2024\u001b[0m         \u001b[0;32mif\u001b[0m \u001b[0museTk\u001b[0m\u001b[0;34m:\u001b[0m\u001b[0;34m\u001b[0m\u001b[0;34m\u001b[0m\u001b[0m\n\u001b[1;32m   2025\u001b[0m             \u001b[0mself\u001b[0m\u001b[0;34m.\u001b[0m\u001b[0m_loadtk\u001b[0m\u001b[0;34m(\u001b[0m\u001b[0;34m)\u001b[0m\u001b[0;34m\u001b[0m\u001b[0;34m\u001b[0m\u001b[0m\n",
            "\u001b[0;31mTclError\u001b[0m: no display name and no $DISPLAY environment variable"
          ]
        }
      ]
    },
    {
      "cell_type": "code",
      "source": [
        "#REQUEST dataset and target TO THE USER -- dataset name\n",
        "\n",
        "print('Hello!\\n\\n\\n\\nThis application is designed to help you to discover, starting from a dataset (a set of columns with data) and a target variable to predict,\\n which are the most significant'+\n",
        "      ' variable determining the target ones.\\n\\n Let\\'s start!!\\n')\n",
        "\n",
        "name=input('Please type the name of the dataset_files:\\n')\n",
        "\n",
        "dataset_name=str(name)\n",
        "\n",
        "\n",
        "variable=input('Please specify the name of the target variable present in the dataset:\\n')\n",
        "\n",
        "target_variable=str(variable)\n",
        "\n",
        "print('\\n\\n\\n\\nThank you!\\n')\n",
        "\n"
      ],
      "metadata": {
        "colab": {
          "base_uri": "https://localhost:8080/"
        },
        "id": "hLHy1sXRFHox",
        "outputId": "d4368f87-e794-49be-9619-33ef521cbb0f"
      },
      "execution_count": 1,
      "outputs": [
        {
          "output_type": "stream",
          "name": "stdout",
          "text": [
            "Hello!\n",
            "\n",
            "\n",
            "\n",
            "This application is designed to help you to discover, starting from a dataset (a set of columns with data) and a target variable to predict,\n",
            " which are the most significant variable determining the target ones.\n",
            "\n",
            " Let's start!!\n",
            "\n",
            "Please type the name of the dataset_files:\n",
            "https://github.com/er-it/Elena_thesis/blob/0b9a62796db0eeca331bcf76b3ff21efea0e8d39/dataset_tool(1).xlsx?raw=true\n",
            "Please specify the name of the target variable present in the dataset:\n",
            "Sex\n",
            "\n",
            "\n",
            "\n",
            "\n",
            "Thank you!\n",
            "\n"
          ]
        }
      ]
    },
    {
      "cell_type": "markdown",
      "source": [
        "## VALIDATE PARAMETER INPUT"
      ],
      "metadata": {
        "id": "bz6KcdpDGLq0"
      }
    },
    {
      "cell_type": "code",
      "source": [
        "#CHECK IF THE DATASET NAME IS AN EXCEL OF CSV FILE (CHECK EXTENTION) -- case: upload from googleDrive\n",
        "\n",
        "import re\n",
        "\n",
        "\n",
        "is_excel= re.search(r'\\.xls[xlsx]?$', dataset_name)\n",
        "is_csv=re.search(r'\\.csv?$', dataset_name)\n",
        "\n",
        "print(is_excel)\n",
        "\n",
        "\n",
        "if ( not is_excel and not is_csv):\n",
        "\n",
        "  print('\\n\\n\\n\\nWe are sorry but we cannot procede with the execution: your filename does not follow the specification (neither excel file nor csv file)')\n",
        "  raise SystemExit()\n",
        "\n"
      ],
      "metadata": {
        "colab": {
          "base_uri": "https://localhost:8080/",
          "height": 70
        },
        "id": "3EkkPb8NGXLx",
        "outputId": "fd630448-b5e2-40d9-a044-591970af53b8"
      },
      "execution_count": 4,
      "outputs": [
        {
          "output_type": "stream",
          "name": "stdout",
          "text": [
            "None\n"
          ]
        },
        {
          "output_type": "execute_result",
          "data": {
            "text/plain": [
              "\"\\n\\nif ( not is_excel and not is_csv):\\n\\n  print('\\n\\n\\n\\nWe are sorry but we cannot procede with the execution: your filename does not follow the specification (neither excel file nor csv file)')\\n  raise SystemExit()\\n\\n\""
            ],
            "application/vnd.google.colaboratory.intrinsic+json": {
              "type": "string"
            }
          },
          "metadata": {},
          "execution_count": 4
        }
      ]
    },
    {
      "cell_type": "code",
      "source": [
        "#CHECK IF THE DATASET NAME IS AN EXCEL OF CSV FILE (CHECK EXTENTION) -- case: download from github link\n",
        "\n",
        "\n",
        "is_link=re.search(r'/([https|http]?:\\/\\/[^ ]*)/', dataset_name)   # (http|ftp|https):\\/\\/([\\w_-]+(?:(?:\\.[\\w_-]+)+))([\\w.,@?^=%&:\\/~+#-]*[\\w@?^=%&\\/~+#-])\n",
        "\n",
        "\n",
        "if ( is_link==False):\n",
        "\n",
        "  print('\\n\\n\\n\\nWe are sorry but we cannot procede with the execution: your filename does not follow the specification (not a link)')\n",
        "  raise SystemExit()\n",
        "\n"
      ],
      "metadata": {
        "id": "lthFQk9h4900"
      },
      "execution_count": null,
      "outputs": []
    },
    {
      "cell_type": "code",
      "source": [
        "#DOWNLOAD FILE FROM DRIVE -- case: upload from googleDrive\n",
        "\n",
        "import pandas as pd\n",
        "\n",
        "from google.colab import drive\n",
        "drive.mount('/content/drive', force_remount=True)\n",
        "\n",
        "print(dataset_name)\n",
        "\n",
        "if is_excel:\n",
        "\n",
        "  try:\n",
        "\n",
        "    #xls = pd.ExcelFile('/content/drive/My Drive/Elena/polimi/IIYear/tesi/analysis/tool/dataset_tool.xlsx')\n",
        "    xls=pd.ExcelFile(dataset_name)\n",
        "    df = pd.read_excel(xls)\n",
        "\n",
        "  except:\n",
        "    print('\\n\\n\\n\\nWe are sorry but we cannot procede with the execution: your file does not exist')\n",
        "    raise SystemExit()\n",
        "\n",
        "\n",
        "if is_csv:\n",
        "\n",
        "  try: \n",
        "    df=pd.read_csv(dataset_name)\n",
        "  except:\n",
        "    print('\\n\\n\\n\\nWe are sorry but we cannot procede with the execution: your file does not exist')\n",
        "    raise SystemExit()"
      ],
      "metadata": {
        "colab": {
          "base_uri": "https://localhost:8080/"
        },
        "id": "l9wUJE6CLwYa",
        "outputId": "31881915-6b0a-4127-a75b-7d7c41fcd7f5"
      },
      "execution_count": 5,
      "outputs": [
        {
          "output_type": "stream",
          "name": "stdout",
          "text": [
            "Mounted at /content/drive\n",
            "https://github.com/er-it/Elena_thesis/blob/0b9a62796db0eeca331bcf76b3ff21efea0e8d39/dataset_tool(1).xlsx?raw=true\n"
          ]
        }
      ]
    },
    {
      "cell_type": "code",
      "source": [
        " #DOWNLOAD FILE  -- case: download from github link\n",
        "\n",
        "import requests as rq\n",
        "import pandas as pd\n",
        "from io import BytesIO\n",
        "\n",
        " \n",
        "try:\n",
        "\n",
        "    xls=pd.ExcelFile(dataset_name)\n",
        "\n",
        "    df = pd.read_excel(xls , engine='openpyxl')\n",
        "    \n",
        "except:\n",
        "    print('\\n\\n\\n\\nWe are sorry but we cannot procede with the execution: your file does not exist')\n",
        "    raise SystemExit()"
      ],
      "metadata": {
        "id": "VR2xTrBlXthe"
      },
      "execution_count": 8,
      "outputs": []
    },
    {
      "cell_type": "code",
      "source": [
        "#CHECK THE EXISTENCE OF THE TARGET VARIABLE IN THE DATASET AND IF IT IS BINARY\n",
        "\n",
        "if df.empty :\n",
        "    print('\\n\\n\\n\\nWe are sorry but we cannot procede with the execution: your file is empty ')\n",
        "    raise SystemExit()\n",
        "\n",
        "\n",
        "result = any(item in df.columns for item in df.columns)\n",
        "\n",
        "if result==False:\n",
        "    print('\\n\\n\\n\\nWe are sorry but we cannot procede with the execution: the target variable is not present in the dataset ')\n",
        "    raise SystemExit()\n",
        "\n",
        "\n",
        "\n",
        "if len(df[target_variable].unique())>2:\n",
        "    print('\\n\\n\\n\\nWe are sorry but we cannot procede with the execution: the target variable is not binary')\n",
        "    raise SystemExit()  "
      ],
      "metadata": {
        "id": "_sYiqjhoPQuv"
      },
      "execution_count": 9,
      "outputs": []
    },
    {
      "cell_type": "markdown",
      "source": [
        "#ITERATE OVER ALL DATAFRAME COLUMNS AND CHECK FOR SIGNIFICANT CLUSTERS"
      ],
      "metadata": {
        "id": "1RovHHd5Qero"
      }
    },
    {
      "cell_type": "code",
      "source": [
        "#DUMMY ENCODING\n",
        "\n",
        "#X = df.loc[:, df.columns != target_variable] # data in input\n",
        "y = df.loc[:, df.columns == target_variable] # data to predict\n",
        "\n",
        "X=df[['Result_viremia', 'Death']]\n",
        "\n",
        "y[target_variable]=y[target_variable].replace({y[target_variable].unique()[0]: 0, y[target_variable].unique()[1]: 1})\n",
        "\n",
        "\n",
        "column_names=X.columns\n",
        "\n",
        "for col in column_names:\n",
        "\n",
        "    #dummy encoding\n",
        "\n",
        "    listt=[]\n",
        "\n",
        "    # create dummy variables\n",
        "    dummies= pd.get_dummies(df[col], prefix = col )\n",
        "\n",
        "    for value in X[col].unique():\n",
        "      listt.append(col+'_'+str(value))\n",
        "\n",
        "    dummies = dummies[listt]\n",
        "    df = pd.concat([df, dummies], axis = 1)\n",
        "    df = df.drop(col, axis = 1)\n",
        "\n"
      ],
      "metadata": {
        "colab": {
          "base_uri": "https://localhost:8080/"
        },
        "id": "BO8BmllPbzxe",
        "outputId": "cf593c4c-0e19-4c26-992e-eeabe8a3ae4c"
      },
      "execution_count": 10,
      "outputs": [
        {
          "output_type": "stream",
          "name": "stderr",
          "text": [
            "/usr/local/lib/python3.7/dist-packages/ipykernel_launcher.py:8: SettingWithCopyWarning: \n",
            "A value is trying to be set on a copy of a slice from a DataFrame.\n",
            "Try using .loc[row_indexer,col_indexer] = value instead\n",
            "\n",
            "See the caveats in the documentation: https://pandas.pydata.org/pandas-docs/stable/user_guide/indexing.html#returning-a-view-versus-a-copy\n",
            "  \n"
          ]
        }
      ]
    },
    {
      "cell_type": "code",
      "source": [
        "#ITERATE OVER ALL DATAFRAME COLUMNS AND CHECK FOR SIGNIFICANT CLUSTERS\n",
        "\n",
        "import itertools\n",
        "\n",
        "from imblearn.over_sampling import SMOTE\n",
        "        \n",
        "import numpy as np\n",
        "from sklearn import datasets, linear_model\n",
        "from sklearn.linear_model import LinearRegression\n",
        "from sklearn.model_selection import train_test_split\n",
        "import statsmodels.api as sm\n",
        "from scipy import stats\n",
        "\n",
        "\n",
        "#X = X.loc[:, X.columns.contains('Unnamed') ] # data in input\n",
        "\n",
        "column_names=X.columns\n",
        "\n",
        "sig_clusters=dict({})\n",
        "\n",
        "print(column_names)\n",
        "\n",
        "for L in range(len(column_names) + 1):\n",
        "    for subset in itertools.combinations(column_names, L):\n",
        "\n",
        "      if(len(subset)>0):\n",
        "        #oversampling and splitting in test and train\n",
        "\n",
        "        os = SMOTE(random_state=0)\n",
        "        X_train, X_test, y_train, y_test = train_test_split(X[list(subset)], y, test_size=0.3, random_state=0)\n",
        "        columns = X_train.columns\n",
        "        os_data_X, os_data_y = os.fit_resample(X_train, y_train)\n",
        "        \n",
        "\n",
        "\n",
        "        #logistic regression\n",
        "\n",
        "        log=sm.Logit(os_data_y,os_data_X)\n",
        "        #log=sm.Logit(y_train, X_train)\n",
        "        result=log.fit(method='bfgs')\n",
        "        print(result.summary())\n",
        "\n",
        "        p_values = result.summary2().tables[1]['P>|z|']\n",
        "\n",
        "\n",
        "        #check statistical significance\n",
        "\n",
        "        if all(item<0.001 for item in p_values):\n",
        "\n",
        "          sig_clusters[subset]=result\n"
      ],
      "metadata": {
        "colab": {
          "base_uri": "https://localhost:8080/"
        },
        "id": "QBamTOdZQeAs",
        "outputId": "934924ae-72eb-4923-86da-2ba28c318cac"
      },
      "execution_count": 11,
      "outputs": [
        {
          "output_type": "stream",
          "name": "stdout",
          "text": [
            "Index(['Result_viremia', 'Death'], dtype='object')\n",
            "Optimization terminated successfully.\n",
            "         Current function value: 0.693113\n",
            "         Iterations: 2\n",
            "         Function evaluations: 4\n",
            "         Gradient evaluations: 4\n",
            "                           Logit Regression Results                           \n",
            "==============================================================================\n",
            "Dep. Variable:                    Sex   No. Observations:                  196\n",
            "Model:                          Logit   Df Residuals:                      195\n",
            "Method:                           MLE   Df Model:                            0\n",
            "Date:                Fri, 16 Sep 2022   Pseudo R-squ.:               4.907e-05\n",
            "Time:                        15:20:19   Log-Likelihood:                -135.85\n",
            "converged:                       True   LL-Null:                       -135.86\n",
            "Covariance Type:            nonrobust   LLR p-value:                       nan\n",
            "==================================================================================\n",
            "                     coef    std err          z      P>|z|      [0.025      0.975]\n",
            "----------------------------------------------------------------------------------\n",
            "Result_viremia     0.0267      0.231      0.115      0.908      -0.426       0.479\n",
            "==================================================================================\n",
            "Optimization terminated successfully.\n",
            "         Current function value: 0.691588\n",
            "         Iterations: 4\n",
            "         Function evaluations: 6\n",
            "         Gradient evaluations: 6\n",
            "                           Logit Regression Results                           \n",
            "==============================================================================\n",
            "Dep. Variable:                    Sex   No. Observations:                  196\n",
            "Model:                          Logit   Df Residuals:                      195\n",
            "Method:                           MLE   Df Model:                            0\n",
            "Date:                Fri, 16 Sep 2022   Pseudo R-squ.:                0.002250\n",
            "Time:                        15:20:19   Log-Likelihood:                -135.55\n",
            "converged:                       True   LL-Null:                       -135.86\n",
            "Covariance Type:            nonrobust   LLR p-value:                       nan\n",
            "==============================================================================\n",
            "                 coef    std err          z      P>|z|      [0.025      0.975]\n",
            "------------------------------------------------------------------------------\n",
            "Death         -0.2451      0.315     -0.779      0.436      -0.862       0.372\n",
            "==============================================================================\n",
            "Optimization terminated successfully.\n",
            "         Current function value: 0.689836\n",
            "         Iterations: 7\n",
            "         Function evaluations: 9\n",
            "         Gradient evaluations: 9\n",
            "                           Logit Regression Results                           \n",
            "==============================================================================\n",
            "Dep. Variable:                    Sex   No. Observations:                  196\n",
            "Model:                          Logit   Df Residuals:                      194\n",
            "Method:                           MLE   Df Model:                            1\n",
            "Date:                Fri, 16 Sep 2022   Pseudo R-squ.:                0.004777\n",
            "Time:                        15:20:19   Log-Likelihood:                -135.21\n",
            "converged:                       True   LL-Null:                       -135.86\n",
            "Covariance Type:            nonrobust   LLR p-value:                    0.2546\n",
            "==================================================================================\n",
            "                     coef    std err          z      P>|z|      [0.025      0.975]\n",
            "----------------------------------------------------------------------------------\n",
            "Result_viremia     0.2039      0.266      0.767      0.443      -0.317       0.725\n",
            "Death             -0.4036      0.365     -1.105      0.269      -1.120       0.312\n",
            "==================================================================================\n"
          ]
        }
      ]
    },
    {
      "cell_type": "markdown",
      "source": [
        "##OUTPUT STATISTICALLY SIGNIFICANT CLUSTERS"
      ],
      "metadata": {
        "id": "6DEM0wI8k_FH"
      }
    },
    {
      "cell_type": "code",
      "source": [
        "#ouput the statistically significant clusters\n",
        "\n",
        "print('\\n\\n\\nBelow the clusters which are statistically significant in determine the value of the target variable '+ target_variable+':\\n')\n",
        "print(sig_clusters.keys())"
      ],
      "metadata": {
        "id": "vtEbSo78lD_q",
        "colab": {
          "base_uri": "https://localhost:8080/"
        },
        "outputId": "e90cda6c-c23a-42e9-babd-6adcb5a51e00"
      },
      "execution_count": 12,
      "outputs": [
        {
          "output_type": "stream",
          "name": "stdout",
          "text": [
            "\n",
            "\n",
            "\n",
            "Below the clusters which are statistically significant in determine the value of the target variable Sex:\n",
            "\n",
            "dict_keys([])\n"
          ]
        }
      ]
    },
    {
      "cell_type": "markdown",
      "source": [
        "##COMPUTE ODD RATIO AND COEFFICIENT RANGE"
      ],
      "metadata": {
        "id": "pdJxgKJ3mdcO"
      }
    },
    {
      "cell_type": "code",
      "source": [
        "#COMPUTE ODD RATIO AND COEFFICIENTS RANGE\n",
        "\n",
        "odd_ratios=dict({})\n",
        "\n",
        "for k, v in sig_clusters.items():\n",
        "\n",
        "  results_as_html = v.summary().tables[1].as_html()\n",
        "  df=pd.read_html(results_as_html, header=0, index_col=0)[0]\n",
        "\n",
        "  df['OR']= np.exp(df.coef)\n",
        "  df[['lower CI', 'upper CI']] = np.exp(result.conf_int())\n",
        "\n",
        "  odd_ratios[k]=df\n",
        "\n"
      ],
      "metadata": {
        "id": "XxNmoBdOmXOl"
      },
      "execution_count": 10,
      "outputs": []
    },
    {
      "cell_type": "markdown",
      "source": [
        "##OUTPUT ODD RATIO AND COEFFICIENT RANGES"
      ],
      "metadata": {
        "id": "T_JiyRgwny8b"
      }
    },
    {
      "cell_type": "code",
      "source": [
        "#ouput the odd ratios and coefficient ranges\n",
        "\n",
        "print('\\n\\n\\nBelow the odd ratios and coefficient ranges for each statistically significant cluster'+ target_variable+':\\n')\n",
        "print(odd_ratios)"
      ],
      "metadata": {
        "id": "ySq4dmJpnnOq",
        "colab": {
          "base_uri": "https://localhost:8080/"
        },
        "outputId": "4e56aabc-da0e-4ab9-eb7e-4d63e1cae704"
      },
      "execution_count": 11,
      "outputs": [
        {
          "output_type": "stream",
          "name": "stdout",
          "text": [
            "\n",
            "\n",
            "\n",
            "Below the odd ratios and coefficient ranges for each statistically significant clusterSex:\n",
            "\n",
            "{}\n"
          ]
        }
      ]
    }
  ]
}